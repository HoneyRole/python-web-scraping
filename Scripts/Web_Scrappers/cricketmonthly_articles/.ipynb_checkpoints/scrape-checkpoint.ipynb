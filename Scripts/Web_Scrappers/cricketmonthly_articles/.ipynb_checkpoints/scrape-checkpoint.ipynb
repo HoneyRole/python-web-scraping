{
 "cells": [
  {
   "cell_type": "code",
   "execution_count": 22,
   "metadata": {},
   "outputs": [],
   "source": [
    "import pandas as pd\n",
    "import re\n",
    "import requests as rq\n",
    "from bs4 import BeautifulSoup"
   ]
  },
  {
   "cell_type": "code",
   "execution_count": 23,
   "metadata": {},
   "outputs": [
    {
     "name": "stdout",
     "output_type": "stream",
     "text": [
      "Fetching Latest Articles...\n",
      "Done!\n"
     ]
    }
   ],
   "source": [
    "header = {'User-Agent' : 'Mozilla/5.0 (X11; Linux x86_64) AppleWebKit/537.36 (KHTML, like Gecko) Chrome/83.0.4103.97 Safari/537.36'}\n",
    "r = rq.get(\"https://www.thecricketmonthly.com/\", headers=header)\n",
    "soup = BeautifulSoup(r.content, 'html.parser')\n",
    "main_sec = soup.find('section', attrs={'class' : re.compile('col-lhs lhs_content')})\n",
    "article = main_sec.find_all('article', attrs={'class' : re.compile('col-1-1 module')})\n",
    "about=[]\n",
    "link=[]\n",
    "summary=[]\n",
    "print('Fetching Latest Articles...')\n",
    "for a in article:\n",
    "    tag = a.find('h1')\n",
    "    about.append(tag.text)\n",
    "    link.append('https://www.thecricketmonthly.com'+tag.a['href'])\n",
    "    tag = a.find('p')\n",
    "    summary.append(tag.text)\n",
    "print('Done!')"
   ]
  },
  {
   "cell_type": "code",
   "execution_count": 25,
   "metadata": {},
   "outputs": [
    {
     "name": "stdout",
     "output_type": "stream",
     "text": [
      "Fetching articles of top Writers...\n",
      "Done\n"
     ]
    }
   ],
   "source": [
    "main_sec = soup.find('ul', attrs={'class' : re.compile('writer-ul')})\n",
    "li = main_sec.find_all('li')\n",
    "linkauth=[]\n",
    "auth=[]\n",
    "headline=[]\n",
    "subhead=[]\n",
    "print('Fetching articles of top Writers...')\n",
    "for l in li:\n",
    "    linkauth.append(l.a['href'])\n",
    "    spn = l.find('span', attrs={'class' : re.compile('wname')})\n",
    "    auth.append(spn.text)\n",
    "    headline.append(l.a.text)\n",
    "    spn = l.find('span', attrs={'class' : re.compile('subheadline')})\n",
    "    subhead.append(spn.text)\n",
    "print('Done')"
   ]
  },
  {
   "cell_type": "code",
   "execution_count": 29,
   "metadata": {},
   "outputs": [
    {
     "name": "stdout",
     "output_type": "stream",
     "text": [
      "Processing Data...\n",
      "Publishing csv...\n",
      "Your output can be found in form of two files 'Articles from Top Writers.csv' and 'Latest Articles from Cricket Monthly.csv'\n"
     ]
    }
   ],
   "source": [
    "print('Processing Data...')\n",
    "la = {'About' : about, 'Short Summary' : summary, 'Further Reading' : link}\n",
    "tw = {'Writer' : auth, 'Headline' : headline, 'Sub-headline' : subhead, 'Further Reading' : linkauth}\n",
    "latest_articles = pd.DataFrame.from_dict(la)\n",
    "top_writers = pd.DataFrame.from_dict(tw)\n",
    "print('Publishing csv...')\n",
    "top_writers.to_csv('Articles from Top Writers.csv', index=False)\n",
    "latest_articles.to_csv('Latest Articles from Cricket Monthly.csv', index=False)\n",
    "print(\"Your output can be found in form of two files 'Articles from Top Writers.csv' and 'Latest Articles from Cricket Monthly.csv'\")"
   ]
  },
  {
   "cell_type": "code",
   "execution_count": null,
   "metadata": {},
   "outputs": [],
   "source": []
  }
 ],
 "metadata": {
  "kernelspec": {
   "display_name": "Python 3",
   "language": "python",
   "name": "python3"
  },
  "language_info": {
   "codemirror_mode": {
    "name": "ipython",
    "version": 3
   },
   "file_extension": ".py",
   "mimetype": "text/x-python",
   "name": "python",
   "nbconvert_exporter": "python",
   "pygments_lexer": "ipython3",
   "version": "3.7.6"
  }
 },
 "nbformat": 4,
 "nbformat_minor": 4
}
