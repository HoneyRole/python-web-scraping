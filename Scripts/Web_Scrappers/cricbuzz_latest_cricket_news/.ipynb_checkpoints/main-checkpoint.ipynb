{
 "cells": [
  {
   "cell_type": "code",
   "execution_count": 44,
   "metadata": {},
   "outputs": [],
   "source": [
    "import requests as rq\n",
    "from bs4 import BeautifulSoup\n",
    "import re\n",
    "\n",
    "header = {'User-Agent' : 'Mozilla/5.0 (X11; Linux x86_64) AppleWebKit/537.36 (KHTML, like Gecko) Chrome/83.0.4103.97 Safari/537.36'}\n",
    "r = rq.get(\"https://www.cricbuzz.com/cricket-news\", headers=header)\n",
    "soup = BeautifulSoup(r.content, 'html.parser')\n",
    "main_div=soup.find_all('div', attrs={'class' : re.compile('cb-col cb-col-100 cb-lst-itm cb-lst-itm-lg')})"
   ]
  },
  {
   "cell_type": "code",
   "execution_count": 45,
   "metadata": {},
   "outputs": [],
   "source": [
    "links=[]\n",
    "intro=[]\n",
    "time=[]\n",
    "typ=[]\n",
    "heading=[]\n",
    "for s in main_div:\n",
    "    links.append(\"https://www.cricbuzz.com\"+s.a['href'])\n",
    "    s1=s.find('div', attrs={'class' : re.compile('cb-nws-intr')})\n",
    "    intro.append(s1.text)\n",
    "    s2=s.find('div', attrs={'class' : re.compile('cb-nws-time')})\n",
    "    typ.append(s2.text)\n",
    "    s3=s.find('span', attrs={'class' : re.compile('cb-nws-time')})\n",
    "    time.append(s3.text)\n",
    "    s4=s.find('h2', attrs={'class' : re.compile('cb-nws-hdln cb-font-18 line-ht24')})\n",
    "    heading.append(s4.text)\n",
    "l=len(heading)\n",
    "file = open(\"./out.txt\", \"w\")\n",
    "for i in range(l):\n",
    "    file.write(typ[i]+\"\\n\")\n",
    "    file.write(heading[i]+\"\\n\")\n",
    "    file.write(intro[i]+\"\\n\")\n",
    "    file.write('Ref: '+links[i]+\"\\n\")\n",
    "    file.write('Posted: '+time[i]+\"\\n\\n\")\n",
    "file.close()"
   ]
  }
 ],
 "metadata": {
  "kernelspec": {
   "display_name": "Python 3",
   "language": "python",
   "name": "python3"
  },
  "language_info": {
   "codemirror_mode": {
    "name": "ipython",
    "version": 3
   },
   "file_extension": ".py",
   "mimetype": "text/x-python",
   "name": "python",
   "nbconvert_exporter": "python",
   "pygments_lexer": "ipython3",
   "version": "3.7.6"
  }
 },
 "nbformat": 4,
 "nbformat_minor": 4
}
